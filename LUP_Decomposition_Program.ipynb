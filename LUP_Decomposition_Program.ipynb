{
  "nbformat": 4,
  "nbformat_minor": 0,
  "metadata": {
    "colab": {
      "name": "LUP Decomposition Program",
      "provenance": [],
      "authorship_tag": "ABX9TyNx4kjy6qCLkjRmdydQgM5e",
      "include_colab_link": true
    },
    "kernelspec": {
      "name": "python3",
      "display_name": "Python 3"
    },
    "language_info": {
      "name": "python"
    }
  },
  "cells": [
    {
      "cell_type": "markdown",
      "metadata": {
        "id": "view-in-github",
        "colab_type": "text"
      },
      "source": [
        "<a href=\"https://colab.research.google.com/github/amk32001/LU-Decomposition/blob/main/LUP_Decomposition_Program.ipynb\" target=\"_parent\"><img src=\"https://colab.research.google.com/assets/colab-badge.svg\" alt=\"Open In Colab\"/></a>"
      ]
    },
    {
      "cell_type": "code",
      "execution_count": 9,
      "metadata": {
        "colab": {
          "base_uri": "https://localhost:8080/"
        },
        "id": "1jLP_QQpe6-W",
        "outputId": "9056e525-d187-46c9-9772-d962d81dfc2a"
      },
      "outputs": [
        {
          "output_type": "stream",
          "name": "stdout",
          "text": [
            "Overwriting LUDecomposition.c\n"
          ]
        }
      ],
      "source": [
        "%%writefile LUDecomposition.c\n",
        "\n",
        "\n",
        "\n",
        "#include<stdio.h>\n",
        "void main()\n",
        "{\n",
        "    // AX=B; consider A=LU;\n",
        "    // LUX=B; let Y=UX;\n",
        "    // LY=B;\n",
        "    \n",
        "    float A[20][20]= {0},L[20][20]= {0}, U[20][20];\n",
        "    float B[20]= {0}, X[20]= {0},Y[20]= {0};\n",
        "    int i,j,k,n;\n",
        "    printf(\"Enter the order of square matrix: \");\n",
        "    scanf(\"%d\",&n);\n",
        "    printf(\"\\nEnter matrix element:\\n\");\n",
        "    for(i=0; i<n; i++)\n",
        "    {\n",
        "        for(j=0; j<n; j++)\n",
        "        {\n",
        "            printf(\"Enter A[%d][%d] element: \", i,j);\n",
        "            scanf(\"%f\",&A[i][j]);\n",
        "        }\n",
        "    }\n",
        "    printf(\"\\nEnter the constant terms: \\n\");\n",
        "    for(i=0; i<n; i++)\n",
        "    {\n",
        "        printf(\"B[%d]\",i);\n",
        "        scanf(\"%f\",&B[i]);\n",
        "    }\n",
        "    for(j=0; j<n; j++)\n",
        "    {\n",
        "        for(i=0; i<n; i++)\n",
        "        {\n",
        "            if(i<=j)\n",
        "            {\n",
        "                U[i][j]=A[i][j];\n",
        "                for(k=0; k<i-1; k++)\n",
        "                    U[i][j]-=L[i][k]*U[k][j];\n",
        "                if(i==j)\n",
        "                    L[i][j]=1;\n",
        "                else\n",
        "                    L[i][j]=0;\n",
        "            }\n",
        "            else\n",
        "            {\n",
        "                L[i][j]=A[i][j];\n",
        "                for(k=0; k<=j-1; k++)\n",
        "                    L[i][j]-=L[i][k]*U[k][j];\n",
        "                L[i][j]/=U[j][j];\n",
        "                U[i][j]=0;\n",
        "            }\n",
        "        }\n",
        "    }\n",
        "    printf(\"[L]: \\n\");\n",
        "    for(i=0; i<n; i++)\n",
        "    {\n",
        "        for(j=0; j<n; j++)\n",
        "            printf(\"%9.3f\",L[i][j]);\n",
        "        printf(\"\\n\");\n",
        "    }\n",
        "    printf(\"\\n\\n[U]: \\n\");\n",
        "    for(i=0; i<n; i++)\n",
        "    {\n",
        "        for(j=0; j<n; j++)\n",
        "            printf(\"%9.3f\",U[i][j]);\n",
        "        printf(\"\\n\");\n",
        "    }\n",
        "    for(i=0; i<n; i++)\n",
        "    {\n",
        "        Y[i]=B[i];\n",
        "        for(j=0; j<i; j++)\n",
        "        {\n",
        "            Y[i]-=L[i][j]*Y[j];\n",
        "        }\n",
        "    }\n",
        "    printf(\"\\n\\n[Y]: \\n\");\n",
        "    for(i=0; i<n; i++)\n",
        "    {\n",
        "        printf(\"%9.3f\",Y[i]);\n",
        "    }\n",
        "    for(i=n-1; i>=0; i--)\n",
        "    {\n",
        "        X[i]= Y[i];\n",
        "        for(j=i+1; j<n; j++)\n",
        "        {\n",
        "            X[i]-=U[i][j]*X[j];\n",
        "        }\n",
        "        X[i]/=U[i][i];\n",
        "    }\n",
        "    printf(\"\\n\\n[X]: \\n\");\n",
        "    for(i=0; i<n; i++)\n",
        "    {\n",
        "        printf(\"%9.3f\",X[i]);\n",
        "    }\n",
        "}"
      ]
    },
    {
      "cell_type": "code",
      "source": [
        "%%shell\n",
        "gcc LUDecomposition.c -o output\n",
        "./output"
      ],
      "metadata": {
        "colab": {
          "base_uri": "https://localhost:8080/"
        },
        "id": "0Qo5vNT0e_ok",
        "outputId": "6b64cb06-58c1-4cf2-9b48-45374fe72c57"
      },
      "execution_count": 8,
      "outputs": [
        {
          "output_type": "stream",
          "name": "stdout",
          "text": [
            "Enter the order of square matrix: 3\n",
            "\n",
            "Enter matrix element:\n",
            "Enter A[0][0] element: 12\n",
            "Enter A[0][1] element: 3\n",
            "Enter A[0][2] element: 1\n",
            "Enter A[1][0] element: 6\n",
            "Enter A[1][1] element: 45\n",
            "Enter A[1][2] element: 8\n",
            "Enter A[2][0] element: 9\n",
            "Enter A[2][1] element: 13\n",
            "Enter A[2][2] element: 10\n",
            "\n",
            "Enter the constant terms: \n",
            "B[0]1\n",
            "B[1]2\n",
            "B[2]3\n",
            "[L]: \n",
            "    1.000    0.000    0.000\n",
            "    0.500    1.000    0.000\n",
            "    0.750    0.239    1.000\n",
            "\n",
            "\n",
            "[U]: \n",
            "   12.000    3.000    1.000\n",
            "    0.000   45.000    8.000\n",
            "    0.000    0.000    9.250\n",
            "\n",
            "\n",
            "[Y]: \n",
            "    1.000    1.500    1.892\n",
            "\n",
            "[X]: \n",
            "    0.067   -0.003    0.205"
          ]
        },
        {
          "output_type": "execute_result",
          "data": {
            "text/plain": [
              ""
            ]
          },
          "metadata": {},
          "execution_count": 8
        }
      ]
    }
  ]
}